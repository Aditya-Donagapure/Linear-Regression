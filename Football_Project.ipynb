{
 "cells": [
  {
   "cell_type": "code",
   "execution_count": 3,
   "id": "8e68b896-4ba8-4e80-8120-9a90d1e508a7",
   "metadata": {},
   "outputs": [],
   "source": [
    "import pandas as pd\n",
    "from string import ascii_uppercase as alphabet\n",
    "import pickle"
   ]
  },
  {
   "cell_type": "code",
   "execution_count": 4,
   "id": "523babce-67e7-4b26-8fe3-85ec8a169a2a",
   "metadata": {},
   "outputs": [],
   "source": [
    "all_tables= pd.read_html('https://web.archive.org/web/20221115040351/https://en.wikipedia.org/wiki/2022_FIFA_World_Cup')"
   ]
  },
  {
   "cell_type": "code",
   "execution_count": 23,
   "id": "d3464a13-bf00-452a-b2e7-5c72f7c38f48",
   "metadata": {},
   "outputs": [
    {
     "data": {
      "text/html": [
       "<div>\n",
       "<style scoped>\n",
       "    .dataframe tbody tr th:only-of-type {\n",
       "        vertical-align: middle;\n",
       "    }\n",
       "\n",
       "    .dataframe tbody tr th {\n",
       "        vertical-align: top;\n",
       "    }\n",
       "\n",
       "    .dataframe thead th {\n",
       "        text-align: right;\n",
       "    }\n",
       "</style>\n",
       "<table border=\"1\" class=\"dataframe\">\n",
       "  <thead>\n",
       "    <tr style=\"text-align: right;\">\n",
       "      <th></th>\n",
       "      <th>Pos</th>\n",
       "      <th>Teamvte</th>\n",
       "      <th>Pld</th>\n",
       "      <th>W</th>\n",
       "      <th>D</th>\n",
       "      <th>L</th>\n",
       "      <th>GF</th>\n",
       "      <th>GA</th>\n",
       "      <th>GD</th>\n",
       "      <th>Pts</th>\n",
       "      <th>Qualification</th>\n",
       "    </tr>\n",
       "  </thead>\n",
       "  <tbody>\n",
       "    <tr>\n",
       "      <th>0</th>\n",
       "      <td>1</td>\n",
       "      <td>Argentina</td>\n",
       "      <td>0</td>\n",
       "      <td>0</td>\n",
       "      <td>0</td>\n",
       "      <td>0</td>\n",
       "      <td>0</td>\n",
       "      <td>0</td>\n",
       "      <td>0</td>\n",
       "      <td>0</td>\n",
       "      <td>Advance to knockout stage</td>\n",
       "    </tr>\n",
       "    <tr>\n",
       "      <th>1</th>\n",
       "      <td>2</td>\n",
       "      <td>Saudi Arabia</td>\n",
       "      <td>0</td>\n",
       "      <td>0</td>\n",
       "      <td>0</td>\n",
       "      <td>0</td>\n",
       "      <td>0</td>\n",
       "      <td>0</td>\n",
       "      <td>0</td>\n",
       "      <td>0</td>\n",
       "      <td>Advance to knockout stage</td>\n",
       "    </tr>\n",
       "    <tr>\n",
       "      <th>2</th>\n",
       "      <td>3</td>\n",
       "      <td>Mexico</td>\n",
       "      <td>0</td>\n",
       "      <td>0</td>\n",
       "      <td>0</td>\n",
       "      <td>0</td>\n",
       "      <td>0</td>\n",
       "      <td>0</td>\n",
       "      <td>0</td>\n",
       "      <td>0</td>\n",
       "      <td>NaN</td>\n",
       "    </tr>\n",
       "    <tr>\n",
       "      <th>3</th>\n",
       "      <td>4</td>\n",
       "      <td>Poland</td>\n",
       "      <td>0</td>\n",
       "      <td>0</td>\n",
       "      <td>0</td>\n",
       "      <td>0</td>\n",
       "      <td>0</td>\n",
       "      <td>0</td>\n",
       "      <td>0</td>\n",
       "      <td>0</td>\n",
       "      <td>NaN</td>\n",
       "    </tr>\n",
       "  </tbody>\n",
       "</table>\n",
       "</div>"
      ],
      "text/plain": [
       "   Pos       Teamvte  Pld  W  D  L  GF  GA  GD  Pts              Qualification\n",
       "0    1     Argentina    0  0  0  0   0   0   0    0  Advance to knockout stage\n",
       "1    2  Saudi Arabia    0  0  0  0   0   0   0    0  Advance to knockout stage\n",
       "2    3        Mexico    0  0  0  0   0   0   0    0                        NaN\n",
       "3    4        Poland    0  0  0  0   0   0   0    0                        NaN"
      ]
     },
     "execution_count": 23,
     "metadata": {},
     "output_type": "execute_result"
    }
   ],
   "source": [
    "all_tables[12]\n",
    "all_tables[26]"
   ]
  },
  {
   "cell_type": "code",
   "execution_count": 26,
   "id": "aa8c6080-1cc8-4a2a-883d-feaee9f305a6",
   "metadata": {},
   "outputs": [
    {
     "name": "stdout",
     "output_type": "stream",
     "text": [
      "12\n",
      "19\n",
      "26\n",
      "33\n",
      "40\n",
      "47\n",
      "54\n",
      "61\n"
     ]
    }
   ],
   "source": [
    "for i in range(12,67,7):\n",
    "   print(i)"
   ]
  },
  {
   "cell_type": "code",
   "execution_count": 30,
   "id": "f941a8e2-5f1e-4539-8a85-67eeba2c0703",
   "metadata": {},
   "outputs": [],
   "source": [
    "all_tables=pd.read_html('https://web.archive.org/web/20221115040351/https://en.wikipedia.org/wiki/2022_FIFA_World_Cup')\n",
    "for i in range(12,67,7):\n",
    "    df=all_tables[i]\n",
    "    df.rename(columns={df.columns[1]:'Team'}, inplace=True)\n",
    "    df.pop('Qualification')"
   ]
  },
  {
   "cell_type": "code",
   "execution_count": 31,
   "id": "408e265d-e8b8-4434-a865-52689d30b476",
   "metadata": {},
   "outputs": [
    {
     "name": "stdout",
     "output_type": "stream",
     "text": [
      "ABCDEFGHIJKLMNOPQRSTUVWXYZ\n"
     ]
    }
   ],
   "source": [
    "print(alphabet)"
   ]
  },
  {
   "cell_type": "code",
   "execution_count": 36,
   "id": "e0d74ecb-26c9-4ec1-a12f-e031d85aa4db",
   "metadata": {},
   "outputs": [],
   "source": [
    "all_tables=pd.read_html('https://web.archive.org/web/20221115040351/https://en.wikipedia.org/wiki/2022_FIFA_World_Cup')\n",
    "\n",
    "dict_table={}\n",
    "for letter , i in zip(alphabet,range(12,67,7)):\n",
    "    df=all_tables[i]\n",
    "    df.rename(columns={df.columns[1]:'Team'},inplace=True)\n",
    "    df.pop('Qualification')\n",
    "    dict_table[f'Group {letter}'] = df"
   ]
  },
  {
   "cell_type": "code",
   "execution_count": 37,
   "id": "8d6279dd-3f52-4335-a711-8cfa3f85ded7",
   "metadata": {},
   "outputs": [
    {
     "data": {
      "text/plain": [
       "dict_keys(['Group A', 'Group B', 'Group C', 'Group D', 'Group E', 'Group F', 'Group G', 'Group H'])"
      ]
     },
     "execution_count": 37,
     "metadata": {},
     "output_type": "execute_result"
    }
   ],
   "source": [
    "dict_table.keys()"
   ]
  },
  {
   "cell_type": "code",
   "execution_count": 38,
   "id": "55d97c8b-7436-4b8e-8ef3-9de01594d86b",
   "metadata": {},
   "outputs": [
    {
     "data": {
      "text/html": [
       "<div>\n",
       "<style scoped>\n",
       "    .dataframe tbody tr th:only-of-type {\n",
       "        vertical-align: middle;\n",
       "    }\n",
       "\n",
       "    .dataframe tbody tr th {\n",
       "        vertical-align: top;\n",
       "    }\n",
       "\n",
       "    .dataframe thead th {\n",
       "        text-align: right;\n",
       "    }\n",
       "</style>\n",
       "<table border=\"1\" class=\"dataframe\">\n",
       "  <thead>\n",
       "    <tr style=\"text-align: right;\">\n",
       "      <th></th>\n",
       "      <th>Pos</th>\n",
       "      <th>Team</th>\n",
       "      <th>Pld</th>\n",
       "      <th>W</th>\n",
       "      <th>D</th>\n",
       "      <th>L</th>\n",
       "      <th>GF</th>\n",
       "      <th>GA</th>\n",
       "      <th>GD</th>\n",
       "      <th>Pts</th>\n",
       "    </tr>\n",
       "  </thead>\n",
       "  <tbody>\n",
       "    <tr>\n",
       "      <th>0</th>\n",
       "      <td>1</td>\n",
       "      <td>Belgium</td>\n",
       "      <td>0</td>\n",
       "      <td>0</td>\n",
       "      <td>0</td>\n",
       "      <td>0</td>\n",
       "      <td>0</td>\n",
       "      <td>0</td>\n",
       "      <td>0</td>\n",
       "      <td>0</td>\n",
       "    </tr>\n",
       "    <tr>\n",
       "      <th>1</th>\n",
       "      <td>2</td>\n",
       "      <td>Canada</td>\n",
       "      <td>0</td>\n",
       "      <td>0</td>\n",
       "      <td>0</td>\n",
       "      <td>0</td>\n",
       "      <td>0</td>\n",
       "      <td>0</td>\n",
       "      <td>0</td>\n",
       "      <td>0</td>\n",
       "    </tr>\n",
       "    <tr>\n",
       "      <th>2</th>\n",
       "      <td>3</td>\n",
       "      <td>Morocco</td>\n",
       "      <td>0</td>\n",
       "      <td>0</td>\n",
       "      <td>0</td>\n",
       "      <td>0</td>\n",
       "      <td>0</td>\n",
       "      <td>0</td>\n",
       "      <td>0</td>\n",
       "      <td>0</td>\n",
       "    </tr>\n",
       "    <tr>\n",
       "      <th>3</th>\n",
       "      <td>4</td>\n",
       "      <td>Croatia</td>\n",
       "      <td>0</td>\n",
       "      <td>0</td>\n",
       "      <td>0</td>\n",
       "      <td>0</td>\n",
       "      <td>0</td>\n",
       "      <td>0</td>\n",
       "      <td>0</td>\n",
       "      <td>0</td>\n",
       "    </tr>\n",
       "  </tbody>\n",
       "</table>\n",
       "</div>"
      ],
      "text/plain": [
       "   Pos     Team  Pld  W  D  L  GF  GA  GD  Pts\n",
       "0    1  Belgium    0  0  0  0   0   0   0    0\n",
       "1    2   Canada    0  0  0  0   0   0   0    0\n",
       "2    3  Morocco    0  0  0  0   0   0   0    0\n",
       "3    4  Croatia    0  0  0  0   0   0   0    0"
      ]
     },
     "execution_count": 38,
     "metadata": {},
     "output_type": "execute_result"
    }
   ],
   "source": [
    "dict_table['Group F']"
   ]
  },
  {
   "cell_type": "code",
   "execution_count": 39,
   "id": "094f1dbc-e4c9-4730-8bde-e9ff2f58076c",
   "metadata": {},
   "outputs": [],
   "source": [
    "with open('dict_table', 'wb') as output:\n",
    "    pickle.dump(dict_table, output)"
   ]
  },
  {
   "cell_type": "code",
   "execution_count": null,
   "id": "59baebcf-8ad5-44a9-9c49-391b53623c4d",
   "metadata": {},
   "outputs": [],
   "source": []
  }
 ],
 "metadata": {
  "kernelspec": {
   "display_name": "Python 3 (ipykernel)",
   "language": "python",
   "name": "python3"
  },
  "language_info": {
   "codemirror_mode": {
    "name": "ipython",
    "version": 3
   },
   "file_extension": ".py",
   "mimetype": "text/x-python",
   "name": "python",
   "nbconvert_exporter": "python",
   "pygments_lexer": "ipython3",
   "version": "3.12.4"
  }
 },
 "nbformat": 4,
 "nbformat_minor": 5
}
